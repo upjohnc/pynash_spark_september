{
 "cells": [
  {
   "cell_type": "markdown",
   "metadata": {},
   "source": [
    "#Spark - Dataframe Introduction\n",
    "Comparing Panda's dataframe functionality and syntax to Spark's dataframe"
   ]
  },
  {
   "cell_type": "code",
   "execution_count": 1,
   "metadata": {
    "collapsed": true
   },
   "outputs": [],
   "source": [
    "from pyspark.sql import Row\n",
    "from pyspark.sql import functions as Func\n",
    "import pandas as pd\n",
    "import numpy as np"
   ]
  },
  {
   "cell_type": "markdown",
   "metadata": {},
   "source": [
    "###Creating a dataframe"
   ]
  },
  {
   "cell_type": "code",
   "execution_count": 2,
   "metadata": {
    "collapsed": true
   },
   "outputs": [],
   "source": [
    "p_weather = pd.read_csv('inmar/weather/2007_small.csv', names = ['station', 'date', 'element', 'value', 'measurement', 'quality', 'source', 'hour'])"
   ]
  },
  {
   "cell_type": "code",
   "execution_count": 3,
   "metadata": {
    "collapsed": true
   },
   "outputs": [],
   "source": [
    "rows = sc.textFile('inmar/weather/2007_small.csv')\n",
    "parts = rows.map(lambda l: l.split(\",\"))\n",
    "\n",
    "# Set the schema for the data\n",
    "schema_weather = parts.map(lambda p: Row(station=str(p[0]), date=str(p[1]), element=str(p[2]), value=float(p[3]), measurement=str(p[4]), quality=str(p[5]), source= str(p[5]), hour = str(p[7])))\n",
    "\n",
    "# Infer the schema, and register the DataFrame as a table.\n",
    "s_weather = sqlContext.createDataFrame(schema_weather)\n",
    "s_weather.registerTempTable(\"weather\")"
   ]
  },
  {
   "cell_type": "code",
   "execution_count": 4,
   "metadata": {
    "collapsed": false
   },
   "outputs": [
    {
     "name": "stdout",
     "output_type": "stream",
     "text": [
      "root\n",
      " |-- date: string (nullable = true)\n",
      " |-- element: string (nullable = true)\n",
      " |-- hour: string (nullable = true)\n",
      " |-- measurement: string (nullable = true)\n",
      " |-- quality: string (nullable = true)\n",
      " |-- source: string (nullable = true)\n",
      " |-- station: string (nullable = true)\n",
      " |-- value: double (nullable = true)\n",
      "\n"
     ]
    }
   ],
   "source": [
    "s_weather.printSchema()"
   ]
  },
  {
   "cell_type": "markdown",
   "metadata": {},
   "source": [
    "###Show the head rows"
   ]
  },
  {
   "cell_type": "code",
   "execution_count": 5,
   "metadata": {
    "collapsed": false
   },
   "outputs": [
    {
     "data": {
      "text/html": [
       "<div style=\"max-height:1000px;max-width:1500px;overflow:auto;\">\n",
       "<table border=\"1\" class=\"dataframe\">\n",
       "  <thead>\n",
       "    <tr style=\"text-align: right;\">\n",
       "      <th></th>\n",
       "      <th>station</th>\n",
       "      <th>date</th>\n",
       "      <th>element</th>\n",
       "      <th>value</th>\n",
       "      <th>measurement</th>\n",
       "      <th>quality</th>\n",
       "      <th>source</th>\n",
       "      <th>hour</th>\n",
       "    </tr>\n",
       "  </thead>\n",
       "  <tbody>\n",
       "    <tr>\n",
       "      <th>0</th>\n",
       "      <td>CA002303986</td>\n",
       "      <td>20070101</td>\n",
       "      <td>TMAX</td>\n",
       "      <td>-130</td>\n",
       "      <td>NaN</td>\n",
       "      <td>NaN</td>\n",
       "      <td>G</td>\n",
       "      <td>NaN</td>\n",
       "    </tr>\n",
       "    <tr>\n",
       "      <th>1</th>\n",
       "      <td>CA002303986</td>\n",
       "      <td>20070101</td>\n",
       "      <td>TMIN</td>\n",
       "      <td>-220</td>\n",
       "      <td>NaN</td>\n",
       "      <td>NaN</td>\n",
       "      <td>G</td>\n",
       "      <td>NaN</td>\n",
       "    </tr>\n",
       "    <tr>\n",
       "      <th>2</th>\n",
       "      <td>CA002303986</td>\n",
       "      <td>20070101</td>\n",
       "      <td>PRCP</td>\n",
       "      <td>0</td>\n",
       "      <td>T</td>\n",
       "      <td>NaN</td>\n",
       "      <td>G</td>\n",
       "      <td>NaN</td>\n",
       "    </tr>\n",
       "    <tr>\n",
       "      <th>3</th>\n",
       "      <td>ASN00037003</td>\n",
       "      <td>20070101</td>\n",
       "      <td>PRCP</td>\n",
       "      <td>0</td>\n",
       "      <td>NaN</td>\n",
       "      <td>NaN</td>\n",
       "      <td>a</td>\n",
       "      <td>NaN</td>\n",
       "    </tr>\n",
       "    <tr>\n",
       "      <th>4</th>\n",
       "      <td>NOE00133566</td>\n",
       "      <td>20070101</td>\n",
       "      <td>TMAX</td>\n",
       "      <td>66</td>\n",
       "      <td>NaN</td>\n",
       "      <td>NaN</td>\n",
       "      <td>E</td>\n",
       "      <td>NaN</td>\n",
       "    </tr>\n",
       "  </tbody>\n",
       "</table>\n",
       "</div>"
      ],
      "text/plain": [
       "       station      date element  value measurement quality source  hour\n",
       "0  CA002303986  20070101    TMAX   -130         NaN     NaN      G   NaN\n",
       "1  CA002303986  20070101    TMIN   -220         NaN     NaN      G   NaN\n",
       "2  CA002303986  20070101    PRCP      0           T     NaN      G   NaN\n",
       "3  ASN00037003  20070101    PRCP      0         NaN     NaN      a   NaN\n",
       "4  NOE00133566  20070101    TMAX     66         NaN     NaN      E   NaN"
      ]
     },
     "execution_count": 5,
     "metadata": {},
     "output_type": "execute_result"
    }
   ],
   "source": [
    "p_weather.head()"
   ]
  },
  {
   "cell_type": "code",
   "execution_count": 6,
   "metadata": {
    "collapsed": false
   },
   "outputs": [
    {
     "data": {
      "text/plain": [
       "[Row(date=u'20070101', element=u'TMAX', hour=u'', measurement=u'', quality=u'', source=u'', station=u'CA002303986', value=-130.0),\n",
       " Row(date=u'20070101', element=u'TMIN', hour=u'', measurement=u'', quality=u'', source=u'', station=u'CA002303986', value=-220.0),\n",
       " Row(date=u'20070101', element=u'PRCP', hour=u'', measurement=u'T', quality=u'', source=u'', station=u'CA002303986', value=0.0)]"
      ]
     },
     "execution_count": 6,
     "metadata": {},
     "output_type": "execute_result"
    }
   ],
   "source": [
    "s_weather.head(3)"
   ]
  },
  {
   "cell_type": "markdown",
   "metadata": {},
   "source": [
    "###Show the shape of the data"
   ]
  },
  {
   "cell_type": "code",
   "execution_count": 7,
   "metadata": {
    "collapsed": false
   },
   "outputs": [
    {
     "data": {
      "text/plain": [
       "(49999, 8)"
      ]
     },
     "execution_count": 7,
     "metadata": {},
     "output_type": "execute_result"
    }
   ],
   "source": [
    "p_weather.shape"
   ]
  },
  {
   "cell_type": "code",
   "execution_count": 8,
   "metadata": {
    "collapsed": false
   },
   "outputs": [
    {
     "data": {
      "text/plain": [
       "49999"
      ]
     },
     "execution_count": 8,
     "metadata": {},
     "output_type": "execute_result"
    }
   ],
   "source": [
    "s_weather.count()"
   ]
  },
  {
   "cell_type": "markdown",
   "metadata": {},
   "source": [
    "###Unique values in a column"
   ]
  },
  {
   "cell_type": "code",
   "execution_count": 9,
   "metadata": {
    "collapsed": false
   },
   "outputs": [
    {
     "data": {
      "text/plain": [
       "array([nan, 'I', 'D', 'S', 'L', 'G', 'O', 'X', 'N'], dtype=object)"
      ]
     },
     "execution_count": 9,
     "metadata": {},
     "output_type": "execute_result"
    }
   ],
   "source": [
    "p_weather['quality'].unique()"
   ]
  },
  {
   "cell_type": "code",
   "execution_count": 10,
   "metadata": {
    "collapsed": false
   },
   "outputs": [
    {
     "data": {
      "text/plain": [
       "[Row(quality=u'D'),\n",
       " Row(quality=u'G'),\n",
       " Row(quality=u'I'),\n",
       " Row(quality=u'L'),\n",
       " Row(quality=u'N'),\n",
       " Row(quality=u'O'),\n",
       " Row(quality=u'S'),\n",
       " Row(quality=u'X'),\n",
       " Row(quality=u'')]"
      ]
     },
     "execution_count": 10,
     "metadata": {},
     "output_type": "execute_result"
    }
   ],
   "source": [
    "s_weather[['quality']].distinct().collect()"
   ]
  },
  {
   "cell_type": "markdown",
   "metadata": {},
   "source": [
    "###Describe - statistics on a column"
   ]
  },
  {
   "cell_type": "code",
   "execution_count": 11,
   "metadata": {
    "collapsed": false
   },
   "outputs": [
    {
     "data": {
      "text/plain": [
       "count    49999.000000\n",
       "mean        30.459649\n",
       "std        116.482134\n",
       "min       -994.000000\n",
       "25%          0.000000\n",
       "50%          0.000000\n",
       "75%         67.000000\n",
       "max       2404.000000\n",
       "Name: value, dtype: float64"
      ]
     },
     "execution_count": 11,
     "metadata": {},
     "output_type": "execute_result"
    }
   ],
   "source": [
    "p_weather['value'].describe()"
   ]
  },
  {
   "cell_type": "code",
   "execution_count": 12,
   "metadata": {
    "collapsed": false
   },
   "outputs": [
    {
     "name": "stdout",
     "output_type": "stream",
     "text": [
      "+-------+------------------+\n",
      "|summary|             value|\n",
      "+-------+------------------+\n",
      "|  count|             49999|\n",
      "|   mean| 30.45964919298386|\n",
      "| stddev|116.48096927468023|\n",
      "|    min|            -994.0|\n",
      "|    max|            2404.0|\n",
      "+-------+------------------+\n",
      "\n"
     ]
    }
   ],
   "source": [
    "s_weather[['value']].describe().show()"
   ]
  },
  {
   "cell_type": "markdown",
   "metadata": {},
   "source": [
    "###Filtering"
   ]
  },
  {
   "cell_type": "code",
   "execution_count": 13,
   "metadata": {
    "collapsed": false,
    "scrolled": true
   },
   "outputs": [
    {
     "data": {
      "text/html": [
       "<div style=\"max-height:1000px;max-width:1500px;overflow:auto;\">\n",
       "<table border=\"1\" class=\"dataframe\">\n",
       "  <thead>\n",
       "    <tr style=\"text-align: right;\">\n",
       "      <th></th>\n",
       "      <th>station</th>\n",
       "      <th>date</th>\n",
       "      <th>element</th>\n",
       "      <th>value</th>\n",
       "      <th>measurement</th>\n",
       "      <th>quality</th>\n",
       "      <th>source</th>\n",
       "      <th>hour</th>\n",
       "    </tr>\n",
       "  </thead>\n",
       "  <tbody>\n",
       "    <tr>\n",
       "      <th>3725</th>\n",
       "      <td>USC00114078</td>\n",
       "      <td>20070101</td>\n",
       "      <td>TMAX</td>\n",
       "      <td>128</td>\n",
       "      <td>NaN</td>\n",
       "      <td>NaN</td>\n",
       "      <td>0</td>\n",
       "      <td>1800</td>\n",
       "    </tr>\n",
       "    <tr>\n",
       "      <th>49569</th>\n",
       "      <td>USC00114078</td>\n",
       "      <td>20070102</td>\n",
       "      <td>TMAX</td>\n",
       "      <td>83</td>\n",
       "      <td>NaN</td>\n",
       "      <td>NaN</td>\n",
       "      <td>0</td>\n",
       "      <td>1800</td>\n",
       "    </tr>\n",
       "  </tbody>\n",
       "</table>\n",
       "</div>"
      ],
      "text/plain": [
       "           station      date element  value measurement quality source  hour\n",
       "3725   USC00114078  20070101    TMAX    128         NaN     NaN      0  1800\n",
       "49569  USC00114078  20070102    TMAX     83         NaN     NaN      0  1800"
      ]
     },
     "execution_count": 13,
     "metadata": {},
     "output_type": "execute_result"
    }
   ],
   "source": [
    "p_one_station_tmax = p_weather[(p_weather['element'] == 'TMAX') & (p_weather['station'] == 'USC00114078')]\n",
    "p_one_station_tmax"
   ]
  },
  {
   "cell_type": "code",
   "execution_count": 14,
   "metadata": {
    "collapsed": false
   },
   "outputs": [
    {
     "data": {
      "text/plain": [
       "[Row(date=u'20070101', element=u'TMAX', hour=u'1800.0', measurement=u'', quality=u'', source=u'', station=u'USC00114078', value=128.0),\n",
       " Row(date=u'20070102', element=u'TMAX', hour=u'1800.0', measurement=u'', quality=u'', source=u'', station=u'USC00114078', value=83.0)]"
      ]
     },
     "execution_count": 14,
     "metadata": {},
     "output_type": "execute_result"
    }
   ],
   "source": [
    "w_one_station_tmax = s_weather[(s_weather['element'] == 'TMAX') & (s_weather['station'] == 'USC00114078')]\n",
    "w_one_station_tmax.collect()"
   ]
  },
  {
   "cell_type": "markdown",
   "metadata": {},
   "source": [
    "###Simple metric from a column"
   ]
  },
  {
   "cell_type": "code",
   "execution_count": 15,
   "metadata": {
    "collapsed": false
   },
   "outputs": [
    {
     "data": {
      "text/plain": [
       "105.5"
      ]
     },
     "execution_count": 15,
     "metadata": {},
     "output_type": "execute_result"
    }
   ],
   "source": [
    "p_one_station_tmax['value'].mean()"
   ]
  },
  {
   "cell_type": "code",
   "execution_count": 16,
   "metadata": {
    "collapsed": false
   },
   "outputs": [
    {
     "data": {
      "text/plain": [
       "[Row(element=u'TMAX', avg(value)=105.5)]"
      ]
     },
     "execution_count": 16,
     "metadata": {},
     "output_type": "execute_result"
    }
   ],
   "source": [
    "w_one_station_tmax.groupby('element').agg(Func.mean('value')).collect()"
   ]
  },
  {
   "cell_type": "markdown",
   "metadata": {},
   "source": [
    "###aggregating - groupby"
   ]
  },
  {
   "cell_type": "code",
   "execution_count": 17,
   "metadata": {
    "collapsed": false
   },
   "outputs": [
    {
     "data": {
      "text/html": [
       "<div style=\"max-height:1000px;max-width:1500px;overflow:auto;\">\n",
       "<table border=\"1\" class=\"dataframe\">\n",
       "  <thead>\n",
       "    <tr style=\"text-align: right;\">\n",
       "      <th></th>\n",
       "      <th>max</th>\n",
       "      <th>min</th>\n",
       "      <th>mean</th>\n",
       "    </tr>\n",
       "    <tr>\n",
       "      <th>date</th>\n",
       "      <th></th>\n",
       "      <th></th>\n",
       "      <th></th>\n",
       "    </tr>\n",
       "  </thead>\n",
       "  <tbody>\n",
       "    <tr>\n",
       "      <th>20070101</th>\n",
       "      <td>600</td>\n",
       "      <td>-994</td>\n",
       "      <td>-28.724394</td>\n",
       "    </tr>\n",
       "    <tr>\n",
       "      <th>20070102</th>\n",
       "      <td>282</td>\n",
       "      <td>-509</td>\n",
       "      <td>-23.213836</td>\n",
       "    </tr>\n",
       "  </tbody>\n",
       "</table>\n",
       "</div>"
      ],
      "text/plain": [
       "          max  min       mean\n",
       "date                         \n",
       "20070101  600 -994 -28.724394\n",
       "20070102  282 -509 -23.213836"
      ]
     },
     "execution_count": 17,
     "metadata": {},
     "output_type": "execute_result"
    }
   ],
   "source": [
    "p_weather[p_weather['element'] == 'TMIN'].groupby('date').aggregate([max, min, np.mean])['value']"
   ]
  },
  {
   "cell_type": "code",
   "execution_count": 18,
   "metadata": {
    "collapsed": false
   },
   "outputs": [
    {
     "name": "stdout",
     "output_type": "stream",
     "text": [
      "+--------+----------+----------+------------------+\n",
      "|    date|max(value)|min(value)|        avg(value)|\n",
      "+--------+----------+----------+------------------+\n",
      "|20070101|     600.0|    -994.0|-28.72439402595283|\n",
      "|20070102|     282.0|    -509.0|-23.21383647798742|\n",
      "+--------+----------+----------+------------------+\n",
      "\n"
     ]
    }
   ],
   "source": [
    "s_weather[s_weather['element'] == 'TMIN'].groupby('date').agg(Func.max('value'),Func.min('value'), Func.mean('value')).show()"
   ]
  },
  {
   "cell_type": "markdown",
   "metadata": {},
   "source": [
    "###adding a column"
   ]
  },
  {
   "cell_type": "code",
   "execution_count": 19,
   "metadata": {
    "collapsed": true
   },
   "outputs": [],
   "source": [
    "p_weather['reset_value'] = 0.1"
   ]
  },
  {
   "cell_type": "code",
   "execution_count": 20,
   "metadata": {
    "collapsed": false
   },
   "outputs": [],
   "source": [
    "s_weather = s_weather.withColumn('reset_value', Func.lit(0.1))"
   ]
  },
  {
   "cell_type": "markdown",
   "metadata": {},
   "source": [
    "###multiplying one column by the other"
   ]
  },
  {
   "cell_type": "code",
   "execution_count": 21,
   "metadata": {
    "collapsed": false
   },
   "outputs": [
    {
     "data": {
      "text/plain": [
       "0   -13\n",
       "1   -22\n",
       "2     0\n",
       "dtype: float64"
      ]
     },
     "execution_count": 21,
     "metadata": {},
     "output_type": "execute_result"
    }
   ],
   "source": [
    "# a few operations that you can do in Pandas don’t translate to Spark well. Please remember that DataFrames in Spark are like RDD in the sense that they’re an immutable data structure. Therefore things like:\n",
    "\n",
    "(p_weather['value'] * p_weather['reset_value']).head(3)"
   ]
  },
  {
   "cell_type": "code",
   "execution_count": 22,
   "metadata": {
    "collapsed": false
   },
   "outputs": [
    {
     "name": "stdout",
     "output_type": "stream",
     "text": [
      "+--------+-------+----+-----------+-------+------+-----------+------+-----------+----------+\n",
      "|    date|element|hour|measurement|quality|source|    station| value|reset_value|multiplier|\n",
      "+--------+-------+----+-----------+-------+------+-----------+------+-----------+----------+\n",
      "|20070101|   TMAX|    |           |       |      |CA002303986|-130.0|        0.1|     -13.0|\n",
      "|20070101|   TMIN|    |           |       |      |CA002303986|-220.0|        0.1|     -22.0|\n",
      "|20070101|   PRCP|    |          T|       |      |CA002303986|   0.0|        0.1|       0.0|\n",
      "+--------+-------+----+-----------+-------+------+-----------+------+-----------+----------+\n",
      "only showing top 3 rows\n",
      "\n"
     ]
    }
   ],
   "source": [
    "s_weather.withColumn('r.value * Stan\n",
    " \n",
    "Many thanks for taking the time to meet today over lunch and thank you for paying.  I am glad I know you.  It is good to have solid software talent in town.\n",
    " \n",
    "I look forward to seeing you at the next Data Science meet up.  If I don’t see you before the new year, I will drop you a line in January to catch up.s_weather.reset_value).show(3)\n",
    "# s_weather.withColumn('multiplier', s_weather.value * s_weather.date).show(3)"
   ]
  },
  {
   "cell_type": "markdown",
   "metadata": {},
   "source": [
    "###multiplying a column by a value"
   ]
  },
  {
   "cell_type": "code",
   "execution_count": 23,
   "metadata": {
    "collapsed": false
   },
   "outputs": [
    {
     "data": {
      "text/plain": [
       "0   -13\n",
       "1   -22\n",
       "2     0\n",
       "Name: value, dtype: float64"
      ]
     },
     "execution_count": 23,
     "metadata": {},
     "output_type": "execute_result"
    }
   ],
   "source": [
    "(p_weather['value'] * 0.1).head(3)"
   ]
  },
  {
   "cell_type": "code",
   "execution_count": 24,
   "metadata": {
    "collapsed": false
   },
   "outputs": [
    {
     "name": "stdout",
     "output_type": "stream",
     "text": [
      "+--------+-------+----+-----------+-------+------+-----------+------+-----------+-----+\n",
      "|    date|element|hour|measurement|quality|source|    station| value|reset_value| temp|\n",
      "+--------+-------+----+-----------+-------+------+-----------+------+-----------+-----+\n",
      "|20070101|   TMAX|    |           |       |      |CA002303986|-130.0|        0.1|-13.0|\n",
      "|20070101|   TMIN|    |           |       |      |CA002303986|-220.0|        0.1|-22.0|\n",
      "|20070101|   PRCP|    |          T|       |      |CA002303986|   0.0|        0.1|  0.0|\n",
      "+--------+-------+----+-----------+-------+------+-----------+------+-----------+-----+\n",
      "only showing top 3 rows\n",
      "\n"
     ]
    }
   ],
   "source": [
    "s_weather.withColumn('temp', s_weather['value'] * 0.1).show(3)"
   ]
  },
  {
   "cell_type": "markdown",
   "metadata": {},
   "source": [
    "###Convert from spark dataframe to a pandas and vice versa"
   ]
  },
  {
   "cell_type": "code",
   "execution_count": 25,
   "metadata": {
    "collapsed": false
   },
   "outputs": [
    {
     "data": {
      "text/plain": [
       "pyspark.sql.dataframe.DataFrame"
      ]
     },
     "execution_count": 25,
     "metadata": {},
     "output_type": "execute_result"
    }
   ],
   "source": [
    "type(sqlContext.createDataFrame(p_weather))"
   ]
  },
  {
   "cell_type": "code",
   "execution_count": 26,
   "metadata": {
    "collapsed": false
   },
   "outputs": [
    {
     "data": {
      "text/plain": [
       "pandas.core.frame.DataFrame"
      ]
     },
     "execution_count": 26,
     "metadata": {},
     "output_type": "execute_result"
    }
   ],
   "source": [
    "type(s_weather.toPandas())"
   ]
  },
  {
   "cell_type": "code",
   "execution_count": null,
   "metadata": {
    "collapsed": true
   },
   "outputs": [],
   "source": []
  }
 ],
 "metadata": {
  "kernelspec": {
   "display_name": "Python 2",
   "language": "python",
   "name": "python2"
  },
  "language_info": {
   "codemirror_mode": {
    "name": "ipython",
    "version": 2
   },
   "file_extension": ".py",
   "mimetype": "text/x-python",
   "name": "python",
   "nbconvert_exporter": "python",
   "pygments_lexer": "ipython2",
   "version": "2.7.9"
  }
 },
 "nbformat": 4,
 "nbformat_minor": 0
}
